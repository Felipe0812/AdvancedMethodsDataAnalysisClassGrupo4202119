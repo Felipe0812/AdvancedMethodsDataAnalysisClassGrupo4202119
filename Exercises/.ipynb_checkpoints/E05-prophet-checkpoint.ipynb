{
 "cells": [
  {
   "cell_type": "markdown",
   "metadata": {},
   "source": [
    "# Exercise 05\n",
    "\n",
    "The result will be evaluated from a report in Jupyter, which must be found in a public GitHub repository.\n",
    "The project must be carried out in the groups assigned in class.\n",
    "Use clear and rigorous procedures.\n",
    "Due date: July 11, 2021, 11:59 pm, through Bloque Neón + (Upload repository link)\n",
    "\n",
    "## Using the example_retail_sales dataset:\n",
    "- Standardize the dataset using np.log\n",
    "- Using prophet forescast the next 6 months of the sales logarithm\n",
    "- Predict the next 6 months of sales"
   ]
  },
  {
   "cell_type": "code",
   "execution_count": null,
   "metadata": {},
   "outputs": [],
   "source": []
  }
 ],
 "metadata": {
  "kernelspec": {
   "display_name": "Python 3",
   "language": "python",
   "name": "python3"
  },
  "language_info": {
   "codemirror_mode": {
    "name": "ipython",
    "version": 3
   },
   "file_extension": ".py",
   "mimetype": "text/x-python",
   "name": "python",
   "nbconvert_exporter": "python",
   "pygments_lexer": "ipython3",
   "version": "3.8.10"
  }
 },
 "nbformat": 4,
 "nbformat_minor": 2
}
