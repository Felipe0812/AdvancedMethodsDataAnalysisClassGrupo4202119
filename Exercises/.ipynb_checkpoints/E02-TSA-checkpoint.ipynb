{
 "cells": [
  {
   "cell_type": "markdown",
   "metadata": {},
   "source": [
    "# Exercise 02\n",
    "\n",
    "## Time Series Analysis\n",
    "\n",
    "- The result will be evaluated from a report in Jupyter, which must be found in a public GitHub repository.\n",
    "- The project must be carried out in the groups assigned in class.\n",
    "- Use clear and rigorous procedures.\n",
    "- Due date: July 11, 2021, 11:59 pm, through Bloque Neón + (Upload repository link)"
   ]
  },
  {
   "cell_type": "markdown",
   "metadata": {},
   "source": [
    "# 02.1 Download and explore one series from [Google Trends](https://trends.google.com/trends/?geo=CO)\n",
    "\n",
    "## In your analysis, be sure to answer:\n",
    "\n",
    "- Is the time series stationary?\n",
    "- Construct and plot the trend component of the time series\n",
    "- Construct and plot the seasonal component of the time series\n",
    "- Is the detrended time series stationary?\n",
    "- Construct a plot to analyze the autocorrelation"
   ]
  }
 ],
 "metadata": {
  "kernelspec": {
   "display_name": "Python 3",
   "language": "python",
   "name": "python3"
  },
  "language_info": {
   "codemirror_mode": {
    "name": "ipython",
    "version": 3
   },
   "file_extension": ".py",
   "mimetype": "text/x-python",
   "name": "python",
   "nbconvert_exporter": "python",
   "pygments_lexer": "ipython3",
   "version": "3.8.10"
  }
 },
 "nbformat": 4,
 "nbformat_minor": 2
}
