{
 "cells": [
  {
   "cell_type": "markdown",
   "metadata": {},
   "source": [
    "# Exercise 03 - Autoregressive Integrated Moving Average Models\n",
    "\n",
    "- The result will be evaluated from a report in Jupyter, which must be found in a public GitHub repository.\n",
    "- The project must be carried out in the groups assigned in class.\n",
    "- Use clear and rigorous procedures.\n",
    "- Due date: July 11, 2021, 11:59 pm, through Bloque Neón + (Upload repository link)\n",
    "\n",
    "# 03.1 - Plot and analyze the ACF and PACF of the 4 time series in data_arma.csv:\n",
    "\n",
    "### What do these plots suggest about the data being an AR or MA process?"
   ]
  },
  {
   "cell_type": "code",
   "execution_count": null,
   "metadata": {},
   "outputs": [],
   "source": []
  },
  {
   "cell_type": "markdown",
   "metadata": {},
   "source": [
    "# 03.2 - Using the shampoo dataset:\n",
    "\n",
    "### Find the parameters p, d q that minimize the mean squared error (MSE) of the rolling forecast.\n"
   ]
  },
  {
   "cell_type": "code",
   "execution_count": null,
   "metadata": {},
   "outputs": [],
   "source": []
  }
 ],
 "metadata": {
  "kernelspec": {
   "display_name": "Python 3",
   "language": "python",
   "name": "python3"
  },
  "language_info": {
   "codemirror_mode": {
    "name": "ipython",
    "version": 3
   },
   "file_extension": ".py",
   "mimetype": "text/x-python",
   "name": "python",
   "nbconvert_exporter": "python",
   "pygments_lexer": "ipython3",
   "version": "3.8.10"
  }
 },
 "nbformat": 4,
 "nbformat_minor": 2
}
