{
 "cells": [
  {
   "cell_type": "markdown",
   "metadata": {},
   "source": [
    "# Exercise 02\n",
    "\n",
    "## Time Series Analysis\n",
    "\n",
    "- The result will be evaluated from a report in Jupiter, which must be found in a public GitHub repository.\n",
    "- The project must be carried out in the groups assigned in class.\n",
    "- Use clear and rigorous procedures.\n",
    "- Due date: 22, 2020, 11:59 pm, through Sicua + (Upload repository link)\n",
    "\n",
    "# 02.1 Find the values of rho for which a series becomes non-stationary. rho between 0 and 1 ([0,1]) \\n\",\n",
    "`X(t) = Rho * X(t-1) + Er(t)`"
   ]
  },
  {
   "cell_type": "code",
   "execution_count": null,
   "metadata": {},
   "outputs": [],
   "source": []
  },
  {
   "cell_type": "markdown",
   "metadata": {},
   "source": [
    "# 02.2 Download and explore one series from google trends"
   ]
  },
  {
   "cell_type": "code",
   "execution_count": null,
   "metadata": {},
   "outputs": [],
   "source": []
  }
 ],
 "metadata": {
  "kernelspec": {
   "display_name": "Python 3",
   "language": "python",
   "name": "python3"
  },
  "language_info": {
   "codemirror_mode": {
    "name": "ipython",
    "version": 3
   },
   "file_extension": ".py",
   "mimetype": "text/x-python",
   "name": "python",
   "nbconvert_exporter": "python",
   "pygments_lexer": "ipython3",
   "version": "3.7.4"
  }
 },
 "nbformat": 4,
 "nbformat_minor": 2
}
